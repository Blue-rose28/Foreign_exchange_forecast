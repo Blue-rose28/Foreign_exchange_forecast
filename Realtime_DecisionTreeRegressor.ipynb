{
 "cells": [
  {
   "cell_type": "code",
   "execution_count": 1,
   "id": "7a6045cf",
   "metadata": {},
   "outputs": [],
   "source": [
    "import numpy as np\n",
    "import pandas as pd\n",
    "import matplotlib.pyplot as plt\n",
    "import seaborn as sns\n"
   ]
  },
  {
   "cell_type": "code",
   "execution_count": 2,
   "id": "1c82ee30",
   "metadata": {},
   "outputs": [],
   "source": [
    "from seaborn import regression"
   ]
  },
  {
   "cell_type": "code",
   "execution_count": 3,
   "id": "d232911d",
   "metadata": {},
   "outputs": [],
   "source": [
    "sns.set()"
   ]
  },
  {
   "cell_type": "code",
   "execution_count": 4,
   "id": "514c68d2",
   "metadata": {},
   "outputs": [
    {
     "name": "stderr",
     "output_type": "stream",
     "text": [
      "C:\\Users\\tuanq\\AppData\\Local\\Temp\\ipykernel_31372\\2414357448.py:1: MatplotlibDeprecationWarning: The seaborn styles shipped by Matplotlib are deprecated since 3.6, as they no longer correspond to the styles shipped by seaborn. However, they will remain available as 'seaborn-v0_8-<style>'. Alternatively, directly use the seaborn API instead.\n",
      "  plt.style.use('seaborn-whitegrid')\n"
     ]
    }
   ],
   "source": [
    "plt.style.use('seaborn-whitegrid')"
   ]
  },
  {
   "cell_type": "code",
   "execution_count": 7,
   "id": "2bf60d07",
   "metadata": {},
   "outputs": [
    {
     "data": {
      "text/html": [
       "<div>\n",
       "<style scoped>\n",
       "    .dataframe tbody tr th:only-of-type {\n",
       "        vertical-align: middle;\n",
       "    }\n",
       "\n",
       "    .dataframe tbody tr th {\n",
       "        vertical-align: top;\n",
       "    }\n",
       "\n",
       "    .dataframe thead th {\n",
       "        text-align: right;\n",
       "    }\n",
       "</style>\n",
       "<table border=\"1\" class=\"dataframe\">\n",
       "  <thead>\n",
       "    <tr style=\"text-align: right;\">\n",
       "      <th></th>\n",
       "      <th>Date</th>\n",
       "      <th>Open</th>\n",
       "      <th>High</th>\n",
       "      <th>Low</th>\n",
       "      <th>Close</th>\n",
       "      <th>Adj Close</th>\n",
       "      <th>Volume</th>\n",
       "    </tr>\n",
       "  </thead>\n",
       "  <tbody>\n",
       "    <tr>\n",
       "      <th>0</th>\n",
       "      <td>01-Jan-21</td>\n",
       "      <td>0.777180</td>\n",
       "      <td>0.820760</td>\n",
       "      <td>0.769823</td>\n",
       "      <td>0.770297</td>\n",
       "      <td>0.770297</td>\n",
       "      <td>0</td>\n",
       "    </tr>\n",
       "    <tr>\n",
       "      <th>1</th>\n",
       "      <td>04-Jan-21</td>\n",
       "      <td>0.771300</td>\n",
       "      <td>0.774200</td>\n",
       "      <td>0.765660</td>\n",
       "      <td>0.771230</td>\n",
       "      <td>0.771230</td>\n",
       "      <td>0</td>\n",
       "    </tr>\n",
       "    <tr>\n",
       "      <th>2</th>\n",
       "      <td>05-Jan-21</td>\n",
       "      <td>0.766980</td>\n",
       "      <td>0.775300</td>\n",
       "      <td>0.766289</td>\n",
       "      <td>0.767100</td>\n",
       "      <td>0.767100</td>\n",
       "      <td>0</td>\n",
       "    </tr>\n",
       "    <tr>\n",
       "      <th>3</th>\n",
       "      <td>06-Jan-21</td>\n",
       "      <td>0.776280</td>\n",
       "      <td>0.782038</td>\n",
       "      <td>0.773431</td>\n",
       "      <td>0.776600</td>\n",
       "      <td>0.776600</td>\n",
       "      <td>0</td>\n",
       "    </tr>\n",
       "    <tr>\n",
       "      <th>4</th>\n",
       "      <td>07-Jan-21</td>\n",
       "      <td>0.781540</td>\n",
       "      <td>0.781540</td>\n",
       "      <td>0.772770</td>\n",
       "      <td>0.781700</td>\n",
       "      <td>0.781700</td>\n",
       "      <td>0</td>\n",
       "    </tr>\n",
       "    <tr>\n",
       "      <th>...</th>\n",
       "      <td>...</td>\n",
       "      <td>...</td>\n",
       "      <td>...</td>\n",
       "      <td>...</td>\n",
       "      <td>...</td>\n",
       "      <td>...</td>\n",
       "      <td>...</td>\n",
       "    </tr>\n",
       "    <tr>\n",
       "      <th>738</th>\n",
       "      <td>01-Nov-23</td>\n",
       "      <td>0.633995</td>\n",
       "      <td>0.639321</td>\n",
       "      <td>0.631930</td>\n",
       "      <td>0.633995</td>\n",
       "      <td>0.633995</td>\n",
       "      <td>0</td>\n",
       "    </tr>\n",
       "    <tr>\n",
       "      <th>739</th>\n",
       "      <td>02-Nov-23</td>\n",
       "      <td>0.642260</td>\n",
       "      <td>0.645610</td>\n",
       "      <td>0.641410</td>\n",
       "      <td>0.642260</td>\n",
       "      <td>0.642260</td>\n",
       "      <td>0</td>\n",
       "    </tr>\n",
       "    <tr>\n",
       "      <th>740</th>\n",
       "      <td>03-Nov-23</td>\n",
       "      <td>0.642790</td>\n",
       "      <td>0.650915</td>\n",
       "      <td>0.642100</td>\n",
       "      <td>0.642790</td>\n",
       "      <td>0.642790</td>\n",
       "      <td>0</td>\n",
       "    </tr>\n",
       "    <tr>\n",
       "      <th>741</th>\n",
       "      <td>06-Nov-23</td>\n",
       "      <td>0.651687</td>\n",
       "      <td>0.652500</td>\n",
       "      <td>0.649400</td>\n",
       "      <td>0.651687</td>\n",
       "      <td>0.651687</td>\n",
       "      <td>0</td>\n",
       "    </tr>\n",
       "    <tr>\n",
       "      <th>742</th>\n",
       "      <td>07-Nov-23</td>\n",
       "      <td>0.649279</td>\n",
       "      <td>0.649477</td>\n",
       "      <td>0.648967</td>\n",
       "      <td>0.648980</td>\n",
       "      <td>0.648980</td>\n",
       "      <td>0</td>\n",
       "    </tr>\n",
       "  </tbody>\n",
       "</table>\n",
       "<p>743 rows × 7 columns</p>\n",
       "</div>"
      ],
      "text/plain": [
       "          Date      Open      High       Low     Close  Adj Close  Volume\n",
       "0    01-Jan-21  0.777180  0.820760  0.769823  0.770297   0.770297       0\n",
       "1    04-Jan-21  0.771300  0.774200  0.765660  0.771230   0.771230       0\n",
       "2    05-Jan-21  0.766980  0.775300  0.766289  0.767100   0.767100       0\n",
       "3    06-Jan-21  0.776280  0.782038  0.773431  0.776600   0.776600       0\n",
       "4    07-Jan-21  0.781540  0.781540  0.772770  0.781700   0.781700       0\n",
       "..         ...       ...       ...       ...       ...        ...     ...\n",
       "738  01-Nov-23  0.633995  0.639321  0.631930  0.633995   0.633995       0\n",
       "739  02-Nov-23  0.642260  0.645610  0.641410  0.642260   0.642260       0\n",
       "740  03-Nov-23  0.642790  0.650915  0.642100  0.642790   0.642790       0\n",
       "741  06-Nov-23  0.651687  0.652500  0.649400  0.651687   0.651687       0\n",
       "742  07-Nov-23  0.649279  0.649477  0.648967  0.648980   0.648980       0\n",
       "\n",
       "[743 rows x 7 columns]"
      ]
     },
     "execution_count": 7,
     "metadata": {},
     "output_type": "execute_result"
    }
   ],
   "source": [
    "data = pd.read_csv(\"Resources/fx.csv\")\n",
    "data\n"
   ]
  },
  {
   "cell_type": "code",
   "execution_count": 9,
   "id": "8838decd",
   "metadata": {},
   "outputs": [
    {
     "name": "stdout",
     "output_type": "stream",
     "text": [
      "<class 'pandas.core.frame.DataFrame'>\n",
      "RangeIndex: 743 entries, 0 to 742\n",
      "Data columns (total 7 columns):\n",
      " #   Column     Non-Null Count  Dtype         \n",
      "---  ------     --------------  -----         \n",
      " 0   Date       743 non-null    datetime64[ns]\n",
      " 1   Open       743 non-null    float64       \n",
      " 2   High       743 non-null    float64       \n",
      " 3   Low        743 non-null    float64       \n",
      " 4   Close      743 non-null    float64       \n",
      " 5   Adj Close  743 non-null    float64       \n",
      " 6   Volume     743 non-null    int64         \n",
      "dtypes: datetime64[ns](1), float64(5), int64(1)\n",
      "memory usage: 40.8 KB\n"
     ]
    },
    {
     "data": {
      "text/html": [
       "<div>\n",
       "<style scoped>\n",
       "    .dataframe tbody tr th:only-of-type {\n",
       "        vertical-align: middle;\n",
       "    }\n",
       "\n",
       "    .dataframe tbody tr th {\n",
       "        vertical-align: top;\n",
       "    }\n",
       "\n",
       "    .dataframe thead th {\n",
       "        text-align: right;\n",
       "    }\n",
       "</style>\n",
       "<table border=\"1\" class=\"dataframe\">\n",
       "  <thead>\n",
       "    <tr style=\"text-align: right;\">\n",
       "      <th></th>\n",
       "      <th>Date</th>\n",
       "      <th>Open</th>\n",
       "      <th>High</th>\n",
       "      <th>Low</th>\n",
       "      <th>Close</th>\n",
       "      <th>Adj Close</th>\n",
       "      <th>Volume</th>\n",
       "    </tr>\n",
       "  </thead>\n",
       "  <tbody>\n",
       "    <tr>\n",
       "      <th>0</th>\n",
       "      <td>2021-01-01</td>\n",
       "      <td>0.77718</td>\n",
       "      <td>0.820760</td>\n",
       "      <td>0.769823</td>\n",
       "      <td>0.770297</td>\n",
       "      <td>0.770297</td>\n",
       "      <td>0</td>\n",
       "    </tr>\n",
       "    <tr>\n",
       "      <th>1</th>\n",
       "      <td>2021-01-04</td>\n",
       "      <td>0.77130</td>\n",
       "      <td>0.774200</td>\n",
       "      <td>0.765660</td>\n",
       "      <td>0.771230</td>\n",
       "      <td>0.771230</td>\n",
       "      <td>0</td>\n",
       "    </tr>\n",
       "    <tr>\n",
       "      <th>2</th>\n",
       "      <td>2021-01-05</td>\n",
       "      <td>0.76698</td>\n",
       "      <td>0.775300</td>\n",
       "      <td>0.766289</td>\n",
       "      <td>0.767100</td>\n",
       "      <td>0.767100</td>\n",
       "      <td>0</td>\n",
       "    </tr>\n",
       "    <tr>\n",
       "      <th>3</th>\n",
       "      <td>2021-01-06</td>\n",
       "      <td>0.77628</td>\n",
       "      <td>0.782038</td>\n",
       "      <td>0.773431</td>\n",
       "      <td>0.776600</td>\n",
       "      <td>0.776600</td>\n",
       "      <td>0</td>\n",
       "    </tr>\n",
       "    <tr>\n",
       "      <th>4</th>\n",
       "      <td>2021-01-07</td>\n",
       "      <td>0.78154</td>\n",
       "      <td>0.781540</td>\n",
       "      <td>0.772770</td>\n",
       "      <td>0.781700</td>\n",
       "      <td>0.781700</td>\n",
       "      <td>0</td>\n",
       "    </tr>\n",
       "  </tbody>\n",
       "</table>\n",
       "</div>"
      ],
      "text/plain": [
       "        Date     Open      High       Low     Close  Adj Close  Volume\n",
       "0 2021-01-01  0.77718  0.820760  0.769823  0.770297   0.770297       0\n",
       "1 2021-01-04  0.77130  0.774200  0.765660  0.771230   0.771230       0\n",
       "2 2021-01-05  0.76698  0.775300  0.766289  0.767100   0.767100       0\n",
       "3 2021-01-06  0.77628  0.782038  0.773431  0.776600   0.776600       0\n",
       "4 2021-01-07  0.78154  0.781540  0.772770  0.781700   0.781700       0"
      ]
     },
     "execution_count": 9,
     "metadata": {},
     "output_type": "execute_result"
    }
   ],
   "source": [
    "df['Date'] = pd.to_datetime(df['Date'])\n",
    "df.info()\n",
    "df.head()"
   ]
  },
  {
   "cell_type": "code",
   "execution_count": 14,
   "id": "b1b4d35c",
   "metadata": {},
   "outputs": [
    {
     "data": {
      "image/png": "[encoded data removed]",
      "text/plain": [
       "<Figure size 1200x400 with 1 Axes>"
      ]
     },
     "metadata": {},
     "output_type": "display_data"
    }
   ],
   "source": [
    "plt.figure(figsize=(12,4))\n",
    "plt.title(\"AUD/USD Exchange Rate\")\n",
    "plt.xlabel('Date')\n",
    "plt.xlabel('Close')\n",
    "plt.plot(data['Close'])\n",
    "plt.show()"
   ]
  },
  {
   "cell_type": "code",
   "execution_count": 15,
   "id": "bd9e8bde",
   "metadata": {},
   "outputs": [],
   "source": [
    "x=data[['Open', 'High', 'Low']]\n",
    "y=data['Close']\n",
    "x=x.to_numpy()\n",
    "y=y.to_numpy()\n",
    "y=y.reshape(-1,1)\n"
   ]
  },
  {
   "cell_type": "code",
   "execution_count": 20,
   "id": "971b130e",
   "metadata": {},
   "outputs": [],
   "source": [
    "from sklearn.model_selection import train_test_split\n",
    "xtrain, xtest, ytrain, ytest = train_test_split(x, y, test_size=0.2, random_state=42)\n"
   ]
  },
  {
   "cell_type": "code",
   "execution_count": 21,
   "id": "ffee7fef",
   "metadata": {},
   "outputs": [
    {
     "data": {
      "text/html": [
       "<style>#sk-container-id-1 {color: black;}#sk-container-id-1 pre{padding: 0;}#sk-container-id-1 div.sk-toggleable {background-color: white;}#sk-container-id-1 label.sk-toggleable__label {cursor: pointer;display: block;width: 100%;margin-bottom: 0;padding: 0.3em;box-sizing: border-box;text-align: center;}#sk-container-id-1 label.sk-toggleable__label-arrow:before {content: \"▸\";float: left;margin-right: 0.25em;color: #696969;}#sk-container-id-1 label.sk-toggleable__label-arrow:hover:before {color: black;}#sk-container-id-1 div.sk-estimator:hover label.sk-toggleable__label-arrow:before {color: black;}#sk-container-id-1 div.sk-toggleable__content {max-height: 0;max-width: 0;overflow: hidden;text-align: left;background-color: #f0f8ff;}#sk-container-id-1 div.sk-toggleable__content pre {margin: 0.2em;color: black;border-radius: 0.25em;background-color: #f0f8ff;}#sk-container-id-1 input.sk-toggleable__control:checked~div.sk-toggleable__content {max-height: 200px;max-width: 100%;overflow: auto;}#sk-container-id-1 input.sk-toggleable__control:checked~label.sk-toggleable__label-arrow:before {content: \"▾\";}#sk-container-id-1 div.sk-estimator input.sk-toggleable__control:checked~label.sk-toggleable__label {background-color: #d4ebff;}#sk-container-id-1 div.sk-label input.sk-toggleable__control:checked~label.sk-toggleable__label {background-color: #d4ebff;}#sk-container-id-1 input.sk-hidden--visually {border: 0;clip: rect(1px 1px 1px 1px);clip: rect(1px, 1px, 1px, 1px);height: 1px;margin: -1px;overflow: hidden;padding: 0;position: absolute;width: 1px;}#sk-container-id-1 div.sk-estimator {font-family: monospace;background-color: #f0f8ff;border: 1px dotted black;border-radius: 0.25em;box-sizing: border-box;margin-bottom: 0.5em;}#sk-container-id-1 div.sk-estimator:hover {background-color: #d4ebff;}#sk-container-id-1 div.sk-parallel-item::after {content: \"\";width: 100%;border-bottom: 1px solid gray;flex-grow: 1;}#sk-container-id-1 div.sk-label:hover label.sk-toggleable__label {background-color: #d4ebff;}#sk-container-id-1 div.sk-serial::before {content: \"\";position: absolute;border-left: 1px solid gray;box-sizing: border-box;top: 0;bottom: 0;left: 50%;z-index: 0;}#sk-container-id-1 div.sk-serial {display: flex;flex-direction: column;align-items: center;background-color: white;padding-right: 0.2em;padding-left: 0.2em;position: relative;}#sk-container-id-1 div.sk-item {position: relative;z-index: 1;}#sk-container-id-1 div.sk-parallel {display: flex;align-items: stretch;justify-content: center;background-color: white;position: relative;}#sk-container-id-1 div.sk-item::before, #sk-container-id-1 div.sk-parallel-item::before {content: \"\";position: absolute;border-left: 1px solid gray;box-sizing: border-box;top: 0;bottom: 0;left: 50%;z-index: -1;}#sk-container-id-1 div.sk-parallel-item {display: flex;flex-direction: column;z-index: 1;position: relative;background-color: white;}#sk-container-id-1 div.sk-parallel-item:first-child::after {align-self: flex-end;width: 50%;}#sk-container-id-1 div.sk-parallel-item:last-child::after {align-self: flex-start;width: 50%;}#sk-container-id-1 div.sk-parallel-item:only-child::after {width: 0;}#sk-container-id-1 div.sk-dashed-wrapped {border: 1px dashed gray;margin: 0 0.4em 0.5em 0.4em;box-sizing: border-box;padding-bottom: 0.4em;background-color: white;}#sk-container-id-1 div.sk-label label {font-family: monospace;font-weight: bold;display: inline-block;line-height: 1.2em;}#sk-container-id-1 div.sk-label-container {text-align: center;}#sk-container-id-1 div.sk-container {/* jupyter's `normalize.less` sets `[hidden] { display: none; }` but bootstrap.min.css set `[hidden] { display: none !important; }` so we also need the `!important` here to be able to override the default hidden behavior on the sphinx rendered scikit-learn.org. See: https://github.com/scikit-learn/scikit-learn/issues/21755 */display: inline-block !important;position: relative;}#sk-container-id-1 div.sk-text-repr-fallback {display: none;}</style><div id=\"sk-container-id-1\" class=\"sk-top-container\"><div class=\"sk-text-repr-fallback\"><pre>DecisionTreeRegressor()</pre><b>In a Jupyter environment, please rerun this cell to show the HTML representation or trust the notebook. <br />On GitHub, the HTML representation is unable to render, please try loading this page with nbviewer.org.</b></div><div class=\"sk-container\" hidden><div class=\"sk-item\"><div class=\"sk-estimator sk-toggleable\"><input class=\"sk-toggleable__control sk-hidden--visually\" id=\"sk-estimator-id-1\" type=\"checkbox\" checked><label for=\"sk-estimator-id-1\" class=\"sk-toggleable__label sk-toggleable__label-arrow\">DecisionTreeRegressor</label><div class=\"sk-toggleable__content\"><pre>DecisionTreeRegressor()</pre></div></div></div></div></div>"
      ],
      "text/plain": [
       "DecisionTreeRegressor()"
      ]
     },
     "execution_count": 21,
     "metadata": {},
     "output_type": "execute_result"
    }
   ],
   "source": [
    "from sklearn.tree import DecisionTreeRegressor\n",
    "\n",
    "model= DecisionTreeRegressor()\n",
    "model.fit(xtrain, ytrain)"
   ]
  },
  {
   "cell_type": "code",
   "execution_count": 23,
   "id": "580931f0",
   "metadata": {},
   "outputs": [],
   "source": [
    "y_predicted = model.predict(xtest)"
   ]
  },
  {
   "cell_type": "code",
   "execution_count": 24,
   "id": "1da1a43e",
   "metadata": {},
   "outputs": [
    {
     "data": {
      "text/plain": [
       "array([0.66483 , 0.71095 , 0.6476  , 0.71208 , 0.73771 , 0.77435 ,\n",
       "       0.68738 , 0.693   , 0.6727  , 0.67052 , 0.641671, 0.7198  ,\n",
       "       0.721652, 0.77251 , 0.6895  , 0.696782, 0.71588 , 0.71785 ,\n",
       "       0.7145  , 0.66342 , 0.790883, 0.77455 , 0.6327  , 0.67258 ,\n",
       "       0.736822, 0.70355 , 0.755481, 0.75136 , 0.71665 , 0.7772  ,\n",
       "       0.744502, 0.77225 , 0.69097 , 0.768699, 0.689398, 0.71032 ,\n",
       "       0.6297  , 0.702928, 0.740933, 0.697282, 0.7737  , 0.726143,\n",
       "       0.70683 , 0.77225 , 0.6297  , 0.761998, 0.657371, 0.69035 ,\n",
       "       0.777605, 0.6847  , 0.761998, 0.7543  , 0.642162, 0.728221,\n",
       "       0.679279, 0.69827 , 0.777   , 0.78381 , 0.740999, 0.718933,\n",
       "       0.64372 , 0.72098 , 0.74623 , 0.675461, 0.72208 , 0.6914  ,\n",
       "       0.739399, 0.70894 , 0.661358, 0.682911, 0.698758, 0.744502,\n",
       "       0.728221, 0.7626  , 0.737409, 0.65064 , 0.666081, 0.76047 ,\n",
       "       0.671249, 0.697282, 0.77295 , 0.68738 , 0.696782, 0.709879,\n",
       "       0.65285 , 0.670781, 0.66938 , 0.76047 , 0.6923  , 0.63389 ,\n",
       "       0.66927 , 0.72208 , 0.713399, 0.682911, 0.71785 , 0.77225 ,\n",
       "       0.66569 , 0.76792 , 0.6959  , 0.661349, 0.775242, 0.66483 ,\n",
       "       0.6466  , 0.67518 , 0.749193, 0.729341, 0.702   , 0.67765 ,\n",
       "       0.69646 , 0.713399, 0.67518 , 0.7279  , 0.7228  , 0.6476  ,\n",
       "       0.7817  , 0.77557 , 0.71987 , 0.71736 , 0.67471 , 0.73484 ,\n",
       "       0.7766  , 0.73659 , 0.66816 , 0.69035 , 0.690522, 0.681292,\n",
       "       0.63627 , 0.66    , 0.77517 , 0.748649, 0.7503  , 0.66892 ,\n",
       "       0.7503  , 0.74623 , 0.75136 , 0.76047 , 0.66927 , 0.67996 ,\n",
       "       0.64099 , 0.671682, 0.75349 , 0.710379, 0.77862 , 0.6673  ,\n",
       "       0.689398, 0.761673, 0.64405 , 0.75153 , 0.775242])"
      ]
     },
     "execution_count": 24,
     "metadata": {},
     "output_type": "execute_result"
    }
   ],
   "source": [
    "y_predicted"
   ]
  },
  {
   "cell_type": "code",
   "execution_count": 31,
   "id": "12875ac7",
   "metadata": {},
   "outputs": [
    {
     "data": {
      "text/html": [
       "<div>\n",
       "<style scoped>\n",
       "    .dataframe tbody tr th:only-of-type {\n",
       "        vertical-align: middle;\n",
       "    }\n",
       "\n",
       "    .dataframe tbody tr th {\n",
       "        vertical-align: top;\n",
       "    }\n",
       "\n",
       "    .dataframe thead th {\n",
       "        text-align: right;\n",
       "    }\n",
       "</style>\n",
       "<table border=\"1\" class=\"dataframe\">\n",
       "  <thead>\n",
       "    <tr style=\"text-align: right;\">\n",
       "      <th></th>\n",
       "      <th>Statistic</th>\n",
       "      <th>Value</th>\n",
       "    </tr>\n",
       "  </thead>\n",
       "  <tbody>\n",
       "    <tr>\n",
       "      <th>0</th>\n",
       "      <td>Mean</td>\n",
       "      <td>0.711183</td>\n",
       "    </tr>\n",
       "    <tr>\n",
       "      <th>1</th>\n",
       "      <td>Median</td>\n",
       "      <td>0.710379</td>\n",
       "    </tr>\n",
       "    <tr>\n",
       "      <th>2</th>\n",
       "      <td>Std. Deviation</td>\n",
       "      <td>0.042811</td>\n",
       "    </tr>\n",
       "    <tr>\n",
       "      <th>3</th>\n",
       "      <td>Variance</td>\n",
       "      <td>0.001833</td>\n",
       "    </tr>\n",
       "    <tr>\n",
       "      <th>4</th>\n",
       "      <td>Max Value</td>\n",
       "      <td>0.790883</td>\n",
       "    </tr>\n",
       "    <tr>\n",
       "      <th>5</th>\n",
       "      <td>Min Value</td>\n",
       "      <td>0.629700</td>\n",
       "    </tr>\n",
       "  </tbody>\n",
       "</table>\n",
       "</div>"
      ],
      "text/plain": [
       "        Statistic     Value\n",
       "0            Mean  0.711183\n",
       "1          Median  0.710379\n",
       "2  Std. Deviation  0.042811\n",
       "3        Variance  0.001833\n",
       "4       Max Value  0.790883\n",
       "5       Min Value  0.629700"
      ]
     },
     "execution_count": 31,
     "metadata": {},
     "output_type": "execute_result"
    }
   ],
   "source": [
    "# Sumarize statistics of predicted values:\n",
    "mean = np.mean(y_predicted)  # Mean (average)\n",
    "median = np.median(y_predicted)  # Median\n",
    "std_dev = np.std(y_predicted)  # Standard deviation\n",
    "variance = np.var(y_predicted)  # Variance\n",
    "max_value = np.max(y_predicted)  # Maximum value\n",
    "min_value = np.min(y_predicted)  # Minimum value\n",
    "\n",
    "# Create a summary table\n",
    "summary_table = pd.DataFrame({\n",
    "    \"Statistic\": [\"Mean\", \"Median\", \"Std. Deviation\", \"Variance\", \"Max Value\", \"Min Value\"],\n",
    "    \"Value\": [mean, median, std_dev, variance, max_value, min_value]\n",
    "})\n",
    "\n",
    "# Print the summary table\n",
    "summary_table\n",
    "\n"
   ]
  },
  {
   "cell_type": "code",
   "execution_count": null,
   "id": "303280e9",
   "metadata": {},
   "outputs": [],
   "source": []
  },
  {
   "cell_type": "code",
   "execution_count": null,
   "id": "803588eb",
   "metadata": {},
   "outputs": [],
   "source": []
  }
 ],
 "metadata": {
  "kernelspec": {
   "display_name": "Python 3 (ipykernel)",
   "language": "python",
   "name": "python3"
  },
  "language_info": {
   "codemirror_mode": {
    "name": "ipython",
    "version": 3
   },
   "file_extension": ".py",
   "mimetype": "text/x-python",
   "name": "python",
   "nbconvert_exporter": "python",
   "pygments_lexer": "ipython3",
   "version": "3.10.11"
  }
 },
 "nbformat": 4,
 "nbformat_minor": 5
}
